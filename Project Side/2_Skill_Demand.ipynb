{
 "cells": [
  {
   "cell_type": "code",
   "execution_count": null,
   "metadata": {},
   "outputs": [],
   "source": [
    "import seaborn as sns\n",
    "import ast\n",
    "import pandas as pd\n",
    "import matplotlib.pyplot as plt\n",
    "from datasets import load_dataset\n",
    "\n",
    "dataset = load_dataset('lukebarousse/data_jobs')\n",
    "df  = dataset['train'].to_pandas()\n",
    "\n",
    "df['job_posted_date'] = pd.to_datetime(df['job_posted_date']).dt.month\n",
    "df['job_skills'] = df['job_skills'].apply(lambda x: ast.literal_eval(x)if pd.notna(x) else(x))"
   ]
  },
  {
   "cell_type": "code",
   "execution_count": null,
   "metadata": {},
   "outputs": [],
   "source": [
    "df_us = df[df['job_country'] == 'United States']\n",
    "df_skills = df_us.explode('job_skills')\n",
    "df_skills[['job_title', 'job_skills']]"
   ]
  },
  {
   "cell_type": "code",
   "execution_count": null,
   "metadata": {},
   "outputs": [],
   "source": [
    "df_skill_count = df_skills.groupby(['job_skills','job_title_short']).size().reset_index(name='skill_count')\n",
    "# df_skill_count.reset_index(name='skill_count')\n",
    "df_skill_count.sort_values(by='skill_count',ascending=False,inplace = True)"
   ]
  },
  {
   "cell_type": "code",
   "execution_count": null,
   "metadata": {},
   "outputs": [],
   "source": [
    "job_titles = df_skill_count['job_title_short'].unique().tolist()\n",
    "\n",
    "job_titles = sorted(job_titles[:3])\n",
    "job_titles"
   ]
  },
  {
   "cell_type": "code",
   "execution_count": null,
   "metadata": {},
   "outputs": [],
   "source": [
    "fig,ax = plt.subplots(len(job_titles),1)\n",
    "\n",
    "for i , job_title in enumerate(job_titles):\n",
    "    df_plot = df_skill_count[df_skill_count['job_title_short'] == job_title].head(5)\n",
    "    df_plot.plot(kind='barh',x='job_skills',y='skill_count',ax=ax[i],title=job_title)\n",
    "\n",
    "    ax[i].invert_yaxis()\n",
    "    ax[i].set_ylabel('Skills')\n",
    "    ax[i].legend().remove()\n",
    "plt.tight_layout()\n",
    "plt.show()"
   ]
  },
  {
   "cell_type": "code",
   "execution_count": null,
   "metadata": {},
   "outputs": [],
   "source": [
    "df_job_title_count = df_us['job_title_short'].value_counts().reset_index(name='jobs_total')"
   ]
  },
  {
   "cell_type": "code",
   "execution_count": null,
   "metadata": {},
   "outputs": [],
   "source": [
    "df_skill_perc = pd.merge(df_skill_count,df_job_title_count,how='left',on='job_title_short')\n",
    "\n",
    "df_skill_perc['skill_percent'] = 100 * df_skill_perc['skill_count']/df_skill_perc['jobs_total']"
   ]
  },
  {
   "cell_type": "code",
   "execution_count": null,
   "metadata": {},
   "outputs": [],
   "source": [
    "fig,ax = plt.subplots(len(job_titles),1)\n",
    "\n",
    "for i , job_title in enumerate(job_titles):\n",
    "    df_plot = df_skill_perc[df_skill_perc['job_title_short'] == job_title].head(5)\n",
    "\n",
    "    sns.barplot(data=df_plot,x='skill_percent',y='job_skills',ax=ax[i],hue='skill_count',color='blue',palette = 'dark:b_r')\n",
    "    sns.set_theme(style='ticks')\n",
    "    ax[i].set_title(job_title)\n",
    "\n",
    "    ax[i].set_ylabel('')\n",
    "    ax[i].set_xlabel('')\n",
    "    ax[i].set_xlim(0,78)\n",
    "    ax[i].legend().set_visible(False)\n",
    "\n",
    "    #looping through the index to show the skill perecentage\n",
    "    for n ,v  in enumerate(df_plot['skill_percent']):\n",
    "      ax[i].text(v + 1,n,f'{v:.0f}%', va='center')\n",
    "\n",
    "    if i != len(job_titles) - 1:\n",
    "      ax[i].set_xticks([])\n",
    "\n",
    "      #setting the xticks to remove the x axis numbers\n",
    "    ax[i].set_xticks([])\n",
    "plt.tight_layout()\n",
    "plt.show()"
   ]
  }
 ],
 "metadata": {
  "kernelspec": {
   "display_name": "project_pr",
   "language": "python",
   "name": "python3"
  },
  "language_info": {
   "name": "python",
   "version": "3.11.13"
  }
 },
 "nbformat": 4,
 "nbformat_minor": 2
}
